{
 "cells": [
  {
   "cell_type": "markdown",
   "metadata": {},
   "source": [
    "El Sistema Nacional de Información sobre Biodiversidad de México (SNIB) es una \n",
    "base de datos con registro de ocurrencias biológicas que ha recopilado la \n",
    "Comisión Nacional para el Uso y Conocimiento de la Biodiversidad (CONABIO) \n",
    "desde su creación. Esta colección integra gran parte de las colecciones \n",
    "biológicas de México. \n",
    "\n",
    "Hay dos maneras principales de accesar a la información contenida en el SNIB,\n",
    "la primera es descargando los datos desde el [Geoportal] de CONABIO y la \n",
    "segunda desde el la página del [SNIB](http://www.snib.mx/). Un buen consejo \n",
    "es siempre usar el método de descarga desde el sitio del [Geoportal], estos \n",
    "los encontramos en Biodiversidad → Ejemplares y ahí escogemos el *grupo* \n",
    "biológico en el que estemos interesados en este *post* usaremos los registros \n",
    "de [mamíferos](http://www.snib.mx/ejemplares/mamiferos.201807.csv.zip) y el \n",
    "mapa de [áreas naturales protegidas de \n",
    "México](http://www.conabio.gob.mx/informacion/gis/maps/geo/anpmx.zip) el cual \n",
    "también descargamos del [Geoportal].\n",
    "\n",
    "[Geoportal]: http://geoportal.conabio.gob.mx/"
   ]
  },
  {
   "cell_type": "code",
   "execution_count": 1,
   "metadata": {},
   "outputs": [],
   "source": [
    "library(magrittr)"
   ]
  },
  {
   "cell_type": "code",
   "execution_count": 2,
   "metadata": {},
   "outputs": [],
   "source": [
    "MAMMALS_URI <- 'http://www.snib.mx/ejemplares/mamiferos.201807.csv.zip'\n",
    "ANPS_MX_URI <- 'http://www.conabio.gob.mx/informacion/gis/maps/geo/anpmx.zip'\n",
    "\n",
    "mammals_zip <- tempfile(fileext = '.zip')\n",
    "anps_zip <- tempfile(fileext = '.zip')\n",
    "\n",
    "curl::curl_download(MAMMALS_URI, mammals_zip)\n",
    "curl::curl_download(ANPS_MX_URI, anps_zip)"
   ]
  },
  {
   "cell_type": "markdown",
   "metadata": {},
   "source": [
    "En el archivo zip de mamíferos se tienen los siguientes archivos:"
   ]
  },
  {
   "cell_type": "code",
   "execution_count": 3,
   "metadata": {},
   "outputs": [
    {
     "data": {
      "text/html": [
       "<table>\n",
       "<caption>A data.frame: 16 × 3</caption>\n",
       "<thead>\n",
       "\t<tr><th scope=col>Name</th><th scope=col>Length</th><th scope=col>Date</th></tr>\n",
       "\t<tr><th scope=col>&lt;chr&gt;</th><th scope=col>&lt;dbl&gt;</th><th scope=col>&lt;dttm&gt;</th></tr>\n",
       "</thead>\n",
       "<tbody>\n",
       "\t<tr><td>mamiferos.csv        </td><td>769181127</td><td>2018-07-25 14:59:00</td></tr>\n",
       "\t<tr><td>mamiferos.html       </td><td>   412294</td><td>2018-07-26 16:46:00</td></tr>\n",
       "\t<tr><td>mamiferos.png        </td><td>   325960</td><td>2018-07-26 15:26:00</td></tr>\n",
       "\t<tr><td>mamiferos.xml        </td><td>   221369</td><td>2018-07-26 14:11:00</td></tr>\n",
       "\t<tr><td>mamiferosca.csv      </td><td>   745501</td><td>2018-07-25 16:23:00</td></tr>\n",
       "\t<tr><td>mamiferoseua.csv     </td><td>  6609036</td><td>2018-07-25 16:25:00</td></tr>\n",
       "\t<tr><td>mamiferoslicencia.csv</td><td>    85796</td><td>2018-07-26 09:26:00</td></tr>\n",
       "\t<tr><td>mamiferosutm11.csv   </td><td> 36854955</td><td>2018-07-25 15:24:00</td></tr>\n",
       "\t<tr><td>mamiferosutm12.csv   </td><td> 85395267</td><td>2018-07-25 15:29:00</td></tr>\n",
       "\t<tr><td>mamiferosutm13.csv   </td><td>189050486</td><td>2018-07-25 15:39:00</td></tr>\n",
       "\t<tr><td>mamiferosutm14a.csv  </td><td>140288600</td><td>2018-07-25 15:49:00</td></tr>\n",
       "\t<tr><td>mamiferosutm14b.csv  </td><td>136649435</td><td>2018-07-25 16:00:00</td></tr>\n",
       "\t<tr><td>mamiferosutm15.csv   </td><td>142415775</td><td>2018-07-25 16:13:00</td></tr>\n",
       "\t<tr><td>mamiferosutm16.csv   </td><td> 31179967</td><td>2018-07-25 16:21:00</td></tr>\n",
       "\t<tr><td>mamiferos_s.png      </td><td>    22280</td><td>2018-07-26 15:29:00</td></tr>\n",
       "\t<tr><td>README.txt           </td><td>     2943</td><td>2018-07-27 13:03:00</td></tr>\n",
       "</tbody>\n",
       "</table>\n"
      ],
      "text/latex": [
       "A data.frame: 16 × 3\n",
       "\\begin{tabular}{lll}\n",
       " Name & Length & Date\\\\\n",
       " <chr> & <dbl> & <dttm>\\\\\n",
       "\\hline\n",
       "\t mamiferos.csv         & 769181127 & 2018-07-25 14:59:00\\\\\n",
       "\t mamiferos.html        &    412294 & 2018-07-26 16:46:00\\\\\n",
       "\t mamiferos.png         &    325960 & 2018-07-26 15:26:00\\\\\n",
       "\t mamiferos.xml         &    221369 & 2018-07-26 14:11:00\\\\\n",
       "\t mamiferosca.csv       &    745501 & 2018-07-25 16:23:00\\\\\n",
       "\t mamiferoseua.csv      &   6609036 & 2018-07-25 16:25:00\\\\\n",
       "\t mamiferoslicencia.csv &     85796 & 2018-07-26 09:26:00\\\\\n",
       "\t mamiferosutm11.csv    &  36854955 & 2018-07-25 15:24:00\\\\\n",
       "\t mamiferosutm12.csv    &  85395267 & 2018-07-25 15:29:00\\\\\n",
       "\t mamiferosutm13.csv    & 189050486 & 2018-07-25 15:39:00\\\\\n",
       "\t mamiferosutm14a.csv   & 140288600 & 2018-07-25 15:49:00\\\\\n",
       "\t mamiferosutm14b.csv   & 136649435 & 2018-07-25 16:00:00\\\\\n",
       "\t mamiferosutm15.csv    & 142415775 & 2018-07-25 16:13:00\\\\\n",
       "\t mamiferosutm16.csv    &  31179967 & 2018-07-25 16:21:00\\\\\n",
       "\t mamiferos\\_s.png       &     22280 & 2018-07-26 15:29:00\\\\\n",
       "\t README.txt            &      2943 & 2018-07-27 13:03:00\\\\\n",
       "\\end{tabular}\n"
      ],
      "text/markdown": [
       "\n",
       "A data.frame: 16 × 3\n",
       "\n",
       "| Name &lt;chr&gt; | Length &lt;dbl&gt; | Date &lt;dttm&gt; |\n",
       "|---|---|---|\n",
       "| mamiferos.csv         | 769181127 | 2018-07-25 14:59:00 |\n",
       "| mamiferos.html        |    412294 | 2018-07-26 16:46:00 |\n",
       "| mamiferos.png         |    325960 | 2018-07-26 15:26:00 |\n",
       "| mamiferos.xml         |    221369 | 2018-07-26 14:11:00 |\n",
       "| mamiferosca.csv       |    745501 | 2018-07-25 16:23:00 |\n",
       "| mamiferoseua.csv      |   6609036 | 2018-07-25 16:25:00 |\n",
       "| mamiferoslicencia.csv |     85796 | 2018-07-26 09:26:00 |\n",
       "| mamiferosutm11.csv    |  36854955 | 2018-07-25 15:24:00 |\n",
       "| mamiferosutm12.csv    |  85395267 | 2018-07-25 15:29:00 |\n",
       "| mamiferosutm13.csv    | 189050486 | 2018-07-25 15:39:00 |\n",
       "| mamiferosutm14a.csv   | 140288600 | 2018-07-25 15:49:00 |\n",
       "| mamiferosutm14b.csv   | 136649435 | 2018-07-25 16:00:00 |\n",
       "| mamiferosutm15.csv    | 142415775 | 2018-07-25 16:13:00 |\n",
       "| mamiferosutm16.csv    |  31179967 | 2018-07-25 16:21:00 |\n",
       "| mamiferos_s.png       |     22280 | 2018-07-26 15:29:00 |\n",
       "| README.txt            |      2943 | 2018-07-27 13:03:00 |\n",
       "\n"
      ],
      "text/plain": [
       "   Name                  Length    Date               \n",
       "1  mamiferos.csv         769181127 2018-07-25 14:59:00\n",
       "2  mamiferos.html           412294 2018-07-26 16:46:00\n",
       "3  mamiferos.png            325960 2018-07-26 15:26:00\n",
       "4  mamiferos.xml            221369 2018-07-26 14:11:00\n",
       "5  mamiferosca.csv          745501 2018-07-25 16:23:00\n",
       "6  mamiferoseua.csv        6609036 2018-07-25 16:25:00\n",
       "7  mamiferoslicencia.csv     85796 2018-07-26 09:26:00\n",
       "8  mamiferosutm11.csv     36854955 2018-07-25 15:24:00\n",
       "9  mamiferosutm12.csv     85395267 2018-07-25 15:29:00\n",
       "10 mamiferosutm13.csv    189050486 2018-07-25 15:39:00\n",
       "11 mamiferosutm14a.csv   140288600 2018-07-25 15:49:00\n",
       "12 mamiferosutm14b.csv   136649435 2018-07-25 16:00:00\n",
       "13 mamiferosutm15.csv    142415775 2018-07-25 16:13:00\n",
       "14 mamiferosutm16.csv     31179967 2018-07-25 16:21:00\n",
       "15 mamiferos_s.png           22280 2018-07-26 15:29:00\n",
       "16 README.txt                 2943 2018-07-27 13:03:00"
      ]
     },
     "metadata": {},
     "output_type": "display_data"
    }
   ],
   "source": [
    "mammals_zip %>% \n",
    "    unzip(list = TRUE)"
   ]
  },
  {
   "cell_type": "markdown",
   "metadata": {},
   "source": [
    "Los archivos `.html` y `.xml` corresponden a archivos de metadatos. Los \n",
    "archivos `mamiferosutm*.csv` son lo archivos de registros correspondientes \n",
    "a las regiones UTM nombradas. Mientras que `mamiferosca.csv` y \n",
    "`mamiferoseua.csv` corresponden a registros en Centroamérica y Estados \n",
    "Unidos de América. El archivo que `mamiferoslicencia.csv` contiene la \n",
    "licencia de uso de cada datos según el proyecto asociado. Y el archivo\n",
    "que usaremos es el `mamiferos.csv` el cual es el concentrado de todos\n",
    "los registros, aunque muchas veces es demasiado grande para ser trabajado\n",
    "en un computadora (depende de la cantidad de memoria RAM de tu equipo).\n",
    "\n",
    "En todo momento usaremos las bibliotecas: `dplyr`, `readr`, `sf`, `maps`, \n",
    "`ggplot2` y `magrittr`. "
   ]
  },
  {
   "cell_type": "code",
   "execution_count": 4,
   "metadata": {},
   "outputs": [
    {
     "name": "stderr",
     "output_type": "stream",
     "text": [
      "\n",
      "Attaching package: ‘dplyr’\n",
      "\n",
      "\n",
      "The following objects are masked from ‘package:stats’:\n",
      "\n",
      "    filter, lag\n",
      "\n",
      "\n",
      "The following objects are masked from ‘package:base’:\n",
      "\n",
      "    intersect, setdiff, setequal, union\n",
      "\n",
      "\n",
      "Linking to GEOS 3.8.0, GDAL 3.0.2, PROJ 6.2.1\n",
      "\n",
      "Loading required package: sp\n",
      "\n",
      "Checking rgeos availability: TRUE\n",
      "\n"
     ]
    }
   ],
   "source": [
    "library(dplyr)\n",
    "library(readr)\n",
    "library(sf)\n",
    "library(ggplot2)\n",
    "library(maps)\n",
    "library(maptools)"
   ]
  },
  {
   "cell_type": "markdown",
   "metadata": {},
   "source": [
    "Para leer el archivo usaremos `read_csv`, en lugar de el comando base de\n",
    "`R` ya que es más confiable."
   ]
  },
  {
   "cell_type": "code",
   "execution_count": 5,
   "metadata": {},
   "outputs": [
    {
     "name": "stderr",
     "output_type": "stream",
     "text": [
      "Parsed with column specification:\n",
      "cols(\n",
      "  .default = col_character(),\n",
      "  longitud = \u001b[32mcol_double()\u001b[39m,\n",
      "  latitud = \u001b[32mcol_double()\u001b[39m,\n",
      "  categoriaresidenciaaves = \u001b[33mcol_logical()\u001b[39m,\n",
      "  formadecrecimiento = \u001b[33mcol_logical()\u001b[39m,\n",
      "  taxonextinto = \u001b[33mcol_logical()\u001b[39m,\n",
      "  ultimafechaactualizacion = \u001b[34mcol_date(format = \"\")\u001b[39m,\n",
      "  categoriainfraespecie2 = \u001b[33mcol_logical()\u001b[39m,\n",
      "  categoriainfraespecie2valida = \u001b[33mcol_logical()\u001b[39m,\n",
      "  mt24claveestadomapa = \u001b[33mcol_logical()\u001b[39m,\n",
      "  mt24nombreestadomapa = \u001b[33mcol_logical()\u001b[39m,\n",
      "  mt24clavemunicipiomapa = \u001b[33mcol_logical()\u001b[39m,\n",
      "  mt24nombremunicipiomapa = \u001b[33mcol_logical()\u001b[39m,\n",
      "  altitudmapa = \u001b[32mcol_double()\u001b[39m,\n",
      "  fechadeterminacion = \u001b[33mcol_logical()\u001b[39m,\n",
      "  diadeterminacion = \u001b[32mcol_double()\u001b[39m,\n",
      "  mesdeterminacion = \u001b[32mcol_double()\u001b[39m,\n",
      "  aniodeterminacion = \u001b[32mcol_double()\u001b[39m,\n",
      "  diacolecta = \u001b[32mcol_double()\u001b[39m,\n",
      "  mescolecta = \u001b[32mcol_double()\u001b[39m,\n",
      "  aniocolecta = \u001b[32mcol_double()\u001b[39m\n",
      "  # ... with 2 more columns\n",
      ")\n",
      "\n",
      "See spec(...) for full column specifications.\n",
      "\n",
      "Warning message:\n",
      "“425069 parsing failures.\n",
      " row                 col           expected actual                            file\n",
      "2362 altitudmapa         a double           (null) '/tmp/Rtmpq0hQKv/mamiferos.csv'\n",
      "2363 altitudmapa         a double           (null) '/tmp/Rtmpq0hQKv/mamiferos.csv'\n",
      "2364 altitudmapa         a double           (null) '/tmp/Rtmpq0hQKv/mamiferos.csv'\n",
      "2365 altitudmapa         a double           (null) '/tmp/Rtmpq0hQKv/mamiferos.csv'\n",
      "2571 mt24claveestadomapa 1/0/T/F/TRUE/FALSE 30     '/tmp/Rtmpq0hQKv/mamiferos.csv'\n",
      ".... ................... .................. ...... ...............................\n",
      "See problems(...) for more details.\n",
      "”\n"
     ]
    },
    {
     "data": {
      "application/geo+json": {
       "features": [
        {
         "geometry": {
          "coordinates": [
           -93.8191,
           15.9441
          ],
          "type": "Point"
         },
         "properties": {
          "aniocolecta": 1999,
          "clasevalida": "Mammalia",
          "diacolecta": 19,
          "especievalida": "Artibeus lituratus",
          "estadomapa": "CHIAPAS",
          "familiavalida": "Phyllostomidae",
          "generovalido": "Artibeus",
          "idejemplar": "47289ba599f987513bae537cf5f4bda8",
          "mescolecta": 10,
          "ordenvalido": "Chiroptera",
          "phylumdivisionvalido": "Chordata",
          "probablelocnodecampo": null,
          "reinovalido": "Animalia"
         },
         "type": "Feature"
        },
        {
         "geometry": {
          "coordinates": [
           -93.8191,
           15.9441
          ],
          "type": "Point"
         },
         "properties": {
          "aniocolecta": 1999,
          "clasevalida": "Mammalia",
          "diacolecta": 19,
          "especievalida": "Artibeus lituratus",
          "estadomapa": "CHIAPAS",
          "familiavalida": "Phyllostomidae",
          "generovalido": "Artibeus",
          "idejemplar": "bd94ea2dd0ea46e05376aea743cb55eb",
          "mescolecta": 10,
          "ordenvalido": "Chiroptera",
          "phylumdivisionvalido": "Chordata",
          "probablelocnodecampo": null,
          "reinovalido": "Animalia"
         },
         "type": "Feature"
        },
        {
         "geometry": {
          "coordinates": [
           -93.8191,
           15.9441
          ],
          "type": "Point"
         },
         "properties": {
          "aniocolecta": 1999,
          "clasevalida": "Mammalia",
          "diacolecta": 20,
          "especievalida": "Heteromys salvini crispus",
          "estadomapa": "CHIAPAS",
          "familiavalida": "Heteromyidae",
          "generovalido": "Heteromys",
          "idejemplar": "f363a73c42a16767df054de7fa165d6e",
          "mescolecta": 10,
          "ordenvalido": "Rodentia",
          "phylumdivisionvalido": "Chordata",
          "probablelocnodecampo": null,
          "reinovalido": "Animalia"
         },
         "type": "Feature"
        },
        {
         "geometry": {
          "coordinates": [
           -91.1167,
           16.7194
          ],
          "type": "Point"
         },
         "properties": {
          "aniocolecta": 1989,
          "clasevalida": "Mammalia",
          "diacolecta": 19,
          "especievalida": "Ateles geoffroyi vellerosus",
          "estadomapa": "CHIAPAS",
          "familiavalida": "Atelidae",
          "generovalido": "Ateles",
          "idejemplar": "3d279e1f803665450a43ff32a7a7701a",
          "mescolecta": 5,
          "ordenvalido": "Primates",
          "phylumdivisionvalido": "Chordata",
          "probablelocnodecampo": null,
          "reinovalido": "Animalia"
         },
         "type": "Feature"
        },
        {
         "geometry": {
          "coordinates": [
           -92.8056,
           15.6553
          ],
          "type": "Point"
         },
         "properties": {
          "aniocolecta": 1999,
          "clasevalida": null,
          "diacolecta": 22,
          "especievalida": null,
          "estadomapa": "CHIAPAS",
          "familiavalida": null,
          "generovalido": null,
          "idejemplar": "4505a17f94f13b01676da0c877dee92b",
          "mescolecta": 2,
          "ordenvalido": null,
          "phylumdivisionvalido": null,
          "probablelocnodecampo": null,
          "reinovalido": null
         },
         "type": "Feature"
        },
        {
         "geometry": {
          "coordinates": [
           -92.8056,
           15.6553
          ],
          "type": "Point"
         },
         "properties": {
          "aniocolecta": 1999,
          "clasevalida": "Mammalia",
          "diacolecta": 22,
          "especievalida": "Peromyscus guatemalensis guatemalensis",
          "estadomapa": "CHIAPAS",
          "familiavalida": "Cricetidae",
          "generovalido": "Peromyscus",
          "idejemplar": "dfe4724c85b3304fcac2d033866447c6",
          "mescolecta": 2,
          "ordenvalido": "Rodentia",
          "phylumdivisionvalido": "Chordata",
          "probablelocnodecampo": null,
          "reinovalido": "Animalia"
         },
         "type": "Feature"
        }
       ],
       "type": "FeatureCollection"
      },
      "text/html": [
       "<table>\n",
       "<caption>A sf: 6 × 14</caption>\n",
       "<thead>\n",
       "\t<tr><th scope=col>idejemplar</th><th scope=col>reinovalido</th><th scope=col>phylumdivisionvalido</th><th scope=col>clasevalida</th><th scope=col>ordenvalido</th><th scope=col>familiavalida</th><th scope=col>generovalido</th><th scope=col>especievalida</th><th scope=col>diacolecta</th><th scope=col>mescolecta</th><th scope=col>aniocolecta</th><th scope=col>probablelocnodecampo</th><th scope=col>estadomapa</th><th scope=col>geometry</th></tr>\n",
       "\t<tr><th scope=col>&lt;chr&gt;</th><th scope=col>&lt;chr&gt;</th><th scope=col>&lt;chr&gt;</th><th scope=col>&lt;chr&gt;</th><th scope=col>&lt;chr&gt;</th><th scope=col>&lt;chr&gt;</th><th scope=col>&lt;chr&gt;</th><th scope=col>&lt;chr&gt;</th><th scope=col>&lt;dbl&gt;</th><th scope=col>&lt;dbl&gt;</th><th scope=col>&lt;dbl&gt;</th><th scope=col>&lt;chr&gt;</th><th scope=col>&lt;chr&gt;</th><th scope=col>&lt;POINT [°]&gt;</th></tr>\n",
       "</thead>\n",
       "<tbody>\n",
       "\t<tr><td>47289ba599f987513bae537cf5f4bda8</td><td>Animalia</td><td>Chordata</td><td>Mammalia</td><td>Chiroptera</td><td>Phyllostomidae</td><td>Artibeus  </td><td>Artibeus lituratus                    </td><td>19</td><td>10</td><td>1999</td><td>NA</td><td>CHIAPAS</td><td>POINT (-93.81914 15.94414)</td></tr>\n",
       "\t<tr><td>bd94ea2dd0ea46e05376aea743cb55eb</td><td>Animalia</td><td>Chordata</td><td>Mammalia</td><td>Chiroptera</td><td>Phyllostomidae</td><td>Artibeus  </td><td>Artibeus lituratus                    </td><td>19</td><td>10</td><td>1999</td><td>NA</td><td>CHIAPAS</td><td>POINT (-93.81914 15.94414)</td></tr>\n",
       "\t<tr><td>f363a73c42a16767df054de7fa165d6e</td><td>Animalia</td><td>Chordata</td><td>Mammalia</td><td>Rodentia  </td><td>Heteromyidae  </td><td>Heteromys </td><td>Heteromys salvini crispus             </td><td>20</td><td>10</td><td>1999</td><td>NA</td><td>CHIAPAS</td><td>POINT (-93.81914 15.94414)</td></tr>\n",
       "\t<tr><td>3d279e1f803665450a43ff32a7a7701a</td><td>Animalia</td><td>Chordata</td><td>Mammalia</td><td>Primates  </td><td>Atelidae      </td><td>Ateles    </td><td>Ateles geoffroyi vellerosus           </td><td>19</td><td> 5</td><td>1989</td><td>NA</td><td>CHIAPAS</td><td>POINT (-91.11667 16.71944)</td></tr>\n",
       "\t<tr><td>4505a17f94f13b01676da0c877dee92b</td><td>NA      </td><td>NA      </td><td>NA      </td><td>NA        </td><td>NA            </td><td>NA        </td><td>NA                                    </td><td>22</td><td> 2</td><td>1999</td><td>NA</td><td>CHIAPAS</td><td>POINT (-92.80556 15.65528)</td></tr>\n",
       "\t<tr><td>dfe4724c85b3304fcac2d033866447c6</td><td>Animalia</td><td>Chordata</td><td>Mammalia</td><td>Rodentia  </td><td>Cricetidae    </td><td>Peromyscus</td><td>Peromyscus guatemalensis guatemalensis</td><td>22</td><td> 2</td><td>1999</td><td>NA</td><td>CHIAPAS</td><td>POINT (-92.80556 15.65528)</td></tr>\n",
       "</tbody>\n",
       "</table>\n"
      ],
      "text/latex": [
       "A sf: 6 × 14\n",
       "\\begin{tabular}{llllllllllllll}\n",
       " idejemplar & reinovalido & phylumdivisionvalido & clasevalida & ordenvalido & familiavalida & generovalido & especievalida & diacolecta & mescolecta & aniocolecta & probablelocnodecampo & estadomapa & geometry\\\\\n",
       " <chr> & <chr> & <chr> & <chr> & <chr> & <chr> & <chr> & <chr> & <dbl> & <dbl> & <dbl> & <chr> & <chr> & <POINT {[}°{]}>\\\\\n",
       "\\hline\n",
       "\t 47289ba599f987513bae537cf5f4bda8 & Animalia & Chordata & Mammalia & Chiroptera & Phyllostomidae & Artibeus   & Artibeus lituratus                     & 19 & 10 & 1999 & NA & CHIAPAS & POINT (-93.81914 15.94414)\\\\\n",
       "\t bd94ea2dd0ea46e05376aea743cb55eb & Animalia & Chordata & Mammalia & Chiroptera & Phyllostomidae & Artibeus   & Artibeus lituratus                     & 19 & 10 & 1999 & NA & CHIAPAS & POINT (-93.81914 15.94414)\\\\\n",
       "\t f363a73c42a16767df054de7fa165d6e & Animalia & Chordata & Mammalia & Rodentia   & Heteromyidae   & Heteromys  & Heteromys salvini crispus              & 20 & 10 & 1999 & NA & CHIAPAS & POINT (-93.81914 15.94414)\\\\\n",
       "\t 3d279e1f803665450a43ff32a7a7701a & Animalia & Chordata & Mammalia & Primates   & Atelidae       & Ateles     & Ateles geoffroyi vellerosus            & 19 &  5 & 1989 & NA & CHIAPAS & POINT (-91.11667 16.71944)\\\\\n",
       "\t 4505a17f94f13b01676da0c877dee92b & NA       & NA       & NA       & NA         & NA             & NA         & NA                                     & 22 &  2 & 1999 & NA & CHIAPAS & POINT (-92.80556 15.65528)\\\\\n",
       "\t dfe4724c85b3304fcac2d033866447c6 & Animalia & Chordata & Mammalia & Rodentia   & Cricetidae     & Peromyscus & Peromyscus guatemalensis guatemalensis & 22 &  2 & 1999 & NA & CHIAPAS & POINT (-92.80556 15.65528)\\\\\n",
       "\\end{tabular}\n"
      ],
      "text/markdown": [
       "\n",
       "A sf: 6 × 14\n",
       "\n",
       "| idejemplar &lt;chr&gt; | reinovalido &lt;chr&gt; | phylumdivisionvalido &lt;chr&gt; | clasevalida &lt;chr&gt; | ordenvalido &lt;chr&gt; | familiavalida &lt;chr&gt; | generovalido &lt;chr&gt; | especievalida &lt;chr&gt; | diacolecta &lt;dbl&gt; | mescolecta &lt;dbl&gt; | aniocolecta &lt;dbl&gt; | probablelocnodecampo &lt;chr&gt; | estadomapa &lt;chr&gt; | geometry &lt;POINT [°]&gt; |\n",
       "|---|---|---|---|---|---|---|---|---|---|---|---|---|---|\n",
       "| 47289ba599f987513bae537cf5f4bda8 | Animalia | Chordata | Mammalia | Chiroptera | Phyllostomidae | Artibeus   | Artibeus lituratus                     | 19 | 10 | 1999 | NA | CHIAPAS | POINT (-93.81914 15.94414) |\n",
       "| bd94ea2dd0ea46e05376aea743cb55eb | Animalia | Chordata | Mammalia | Chiroptera | Phyllostomidae | Artibeus   | Artibeus lituratus                     | 19 | 10 | 1999 | NA | CHIAPAS | POINT (-93.81914 15.94414) |\n",
       "| f363a73c42a16767df054de7fa165d6e | Animalia | Chordata | Mammalia | Rodentia   | Heteromyidae   | Heteromys  | Heteromys salvini crispus              | 20 | 10 | 1999 | NA | CHIAPAS | POINT (-93.81914 15.94414) |\n",
       "| 3d279e1f803665450a43ff32a7a7701a | Animalia | Chordata | Mammalia | Primates   | Atelidae       | Ateles     | Ateles geoffroyi vellerosus            | 19 |  5 | 1989 | NA | CHIAPAS | POINT (-91.11667 16.71944) |\n",
       "| 4505a17f94f13b01676da0c877dee92b | NA       | NA       | NA       | NA         | NA             | NA         | NA                                     | 22 |  2 | 1999 | NA | CHIAPAS | POINT (-92.80556 15.65528) |\n",
       "| dfe4724c85b3304fcac2d033866447c6 | Animalia | Chordata | Mammalia | Rodentia   | Cricetidae     | Peromyscus | Peromyscus guatemalensis guatemalensis | 22 |  2 | 1999 | NA | CHIAPAS | POINT (-92.80556 15.65528) |\n",
       "\n"
      ],
      "text/plain": [
       "  idejemplar                       reinovalido phylumdivisionvalido clasevalida\n",
       "1 47289ba599f987513bae537cf5f4bda8 Animalia    Chordata             Mammalia   \n",
       "2 bd94ea2dd0ea46e05376aea743cb55eb Animalia    Chordata             Mammalia   \n",
       "3 f363a73c42a16767df054de7fa165d6e Animalia    Chordata             Mammalia   \n",
       "4 3d279e1f803665450a43ff32a7a7701a Animalia    Chordata             Mammalia   \n",
       "5 4505a17f94f13b01676da0c877dee92b NA          NA                   NA         \n",
       "6 dfe4724c85b3304fcac2d033866447c6 Animalia    Chordata             Mammalia   \n",
       "  ordenvalido familiavalida  generovalido\n",
       "1 Chiroptera  Phyllostomidae Artibeus    \n",
       "2 Chiroptera  Phyllostomidae Artibeus    \n",
       "3 Rodentia    Heteromyidae   Heteromys   \n",
       "4 Primates    Atelidae       Ateles      \n",
       "5 NA          NA             NA          \n",
       "6 Rodentia    Cricetidae     Peromyscus  \n",
       "  especievalida                          diacolecta mescolecta aniocolecta\n",
       "1 Artibeus lituratus                     19         10         1999       \n",
       "2 Artibeus lituratus                     19         10         1999       \n",
       "3 Heteromys salvini crispus              20         10         1999       \n",
       "4 Ateles geoffroyi vellerosus            19          5         1989       \n",
       "5 NA                                     22          2         1999       \n",
       "6 Peromyscus guatemalensis guatemalensis 22          2         1999       \n",
       "  probablelocnodecampo estadomapa geometry                  \n",
       "1 NA                   CHIAPAS    POINT (-93.81914 15.94414)\n",
       "2 NA                   CHIAPAS    POINT (-93.81914 15.94414)\n",
       "3 NA                   CHIAPAS    POINT (-93.81914 15.94414)\n",
       "4 NA                   CHIAPAS    POINT (-91.11667 16.71944)\n",
       "5 NA                   CHIAPAS    POINT (-92.80556 15.65528)\n",
       "6 NA                   CHIAPAS    POINT (-92.80556 15.65528)"
      ]
     },
     "metadata": {},
     "output_type": "display_data"
    }
   ],
   "source": [
    "mammals_data <- mammals_zip %>% \n",
    "    unzip(files = c('mamiferos.csv'), exdir = tempdir()) %>% \n",
    "    read_csv()\n",
    "\n",
    "mammals_data %<>% select(idejemplar,\n",
    "                        reinovalido,\n",
    "                        phylumdivisionvalido,\n",
    "                        clasevalida,\n",
    "                        ordenvalido,\n",
    "                        familiavalida,\n",
    "                        generovalido,\n",
    "                        especievalida,\n",
    "                        diacolecta,\n",
    "                        mescolecta,\n",
    "                        aniocolecta,\n",
    "                        probablelocnodecampo,\n",
    "                        longitud,\n",
    "                        latitud, \n",
    "                        estadomapa) %>%\n",
    "  st_as_sf(coords = c(\"longitud\", \"latitud\"),\n",
    "           crs = 4326)\n",
    "\n",
    "mammals_data %>% head()"
   ]
  },
  {
   "cell_type": "markdown",
   "metadata": {},
   "source": [
    "Lo que hemos conseguido al hacer esta lectura es tener un `data.frame` con una\n",
    "columna especial que tiene la geometría del registro, en este caso el punto \n",
    "asociado a la ocurrencia de un taxón, ahora bien no hemos considerado todas las\n",
    "columnas de los registros si no solo algunas (para una explicación de que dato\n",
    "viene en cada columna se puede consultar el \n",
    "[_Diccionario de datos de Ejemplares Geoportal_](http://www.snib.mx/documents/docsnib.html)\n",
    "). \n",
    "\n",
    "Ahora podemos resolver preguntas básicas a los datos como, cual es la \n",
    "representación de las familias del orden _Rodentia_ en lo datos."
   ]
  },
  {
   "cell_type": "code",
   "execution_count": 6,
   "metadata": {},
   "outputs": [
    {
     "data": {
      "image/png": "[encoded data removed]",
      "text/plain": [
       "plot without title"
      ]
     },
     "metadata": {
      "image/png": {
       "height": 420,
       "width": 420
      },
      "text/plain": {
       "height": 420,
       "width": 420
      }
     },
     "output_type": "display_data"
    }
   ],
   "source": [
    "mammals_data %>% \n",
    "    filter(ordenvalido == \"Rodentia\") %>%\n",
    "    ggplot() + \n",
    "        geom_bar(mapping = aes(x = forcats::fct_infreq(familiavalida))) +\n",
    "        coord_flip() + \n",
    "        theme_minimal() +\n",
    "        labs(x = \"Familia\", y = \"Conteos\")"
   ]
  },
  {
   "cell_type": "markdown",
   "metadata": {},
   "source": [
    "En general podríamos trabajar muchas más preguntas de este estilo pero gracias\n",
    "a que  agregamos la geometría asociada a los datos también podemos ocuparla \n",
    "para hacer cosas más interesantes. "
   ]
  },
  {
   "cell_type": "code",
   "execution_count": 7,
   "metadata": {},
   "outputs": [
    {
     "name": "stdout",
     "output_type": "stream",
     "text": [
      "Reading layer `anpmx' from data source `/tmp/Rtmpq0hQKv/anpmx.shp' using driver `ESRI Shapefile'\n",
      "Simple feature collection with 182 features and 19 fields\n",
      "geometry type:  MULTIPOLYGON\n",
      "dimension:      XY\n",
      "bbox:           xmin: -118.6344 ymin: 11.9686 xmax: -85.39723 ymax: 32.48333\n",
      "epsg (SRID):    4326\n",
      "proj4string:    +proj=longlat +datum=WGS84 +no_defs\n"
     ]
    },
    {
     "data": {
      "image/png": "[encoded data removed]",
      "text/plain": [
       "plot without title"
      ]
     },
     "metadata": {
      "image/png": {
       "height": 420,
       "width": 420
      },
      "text/plain": {
       "height": 420,
       "width": 420
      }
     },
     "output_type": "display_data"
    }
   ],
   "source": [
    "mx_border <- st_as_sf(maps::map('world', \n",
    "                                regions = \"Mexico\", \n",
    "                                plot = FALSE, \n",
    "                                fill = TRUE))\n",
    "\n",
    "anps_zip %>% \n",
    "    unzip(exdir = tempdir())\n",
    "\n",
    "mx_national_parks <- file.path(tempdir(), 'anpmx.shp') %>%\n",
    "    st_read() %>%\n",
    "    select(ID_ANP,\n",
    "           NOMBRE, \n",
    "           CAT_DECRET,\n",
    "           REGION) %>%\n",
    "    filter(CAT_DECRET == \"PN\")\n",
    "\n",
    "ggplot() +\n",
    "    geom_sf(data = mx_border) +\n",
    "    geom_sf(data = mx_national_parks, \n",
    "            aes(fill = ID_ANP), \n",
    "            show.legend = FALSE) + \n",
    "    theme_minimal()"
   ]
  },
  {
   "cell_type": "markdown",
   "metadata": {},
   "source": [
    "Vamos a restringir nuestra atención al parque nacional \n",
    "_Cumbres del Ajusco_. Este parque nacional se encuentra en la CDMX\n",
    "y en particular existe un conejo endemico el _Teporingo_. Vamos a explorar\n",
    "los registro de mamíferos del este parque nacional que existan en los datos\n",
    "del SNIB. "
   ]
  },
  {
   "cell_type": "code",
   "execution_count": 8,
   "metadata": {},
   "outputs": [
    {
     "data": {
      "image/png": "[encoded data removed]",
      "text/plain": [
       "plot without title"
      ]
     },
     "metadata": {
      "image/png": {
       "height": 420,
       "width": 420
      },
      "text/plain": {
       "height": 420,
       "width": 420
      }
     },
     "output_type": "display_data"
    }
   ],
   "source": [
    "ajusco_national_park <- mx_national_parks %>%\n",
    "    filter(NOMBRE == \"Cumbres del Ajusco\") %>%\n",
    "    st_geometry() %>%\n",
    "    st_transform(crs = 6369)\n",
    "\n",
    "mammals_data <- mammals_data %>%\n",
    "    st_transform(crs = 6369)\n",
    "\n",
    "snib_data_ajusco <- mammals_data %>%\n",
    "    filter(lengths(st_within(., ajusco_national_park)) > 0)\n",
    "\n",
    "ggplot() +\n",
    "    geom_sf(data = ajusco_national_park) +\n",
    "    geom_sf(data = snib_data_ajusco, aes(colour = idejemplar), show.legend = FALSE) +\n",
    "    theme_bw()"
   ]
  },
  {
   "cell_type": "markdown",
   "metadata": {},
   "source": [
    "Además tenemos los siguientes órdenes representados,"
   ]
  },
  {
   "cell_type": "code",
   "execution_count": 9,
   "metadata": {},
   "outputs": [
    {
     "data": {
      "text/html": [
       "<table>\n",
       "<caption>A grouped_df: 6 × 2</caption>\n",
       "<thead>\n",
       "\t<tr><th scope=col>ordenvalido</th><th scope=col>n</th></tr>\n",
       "\t<tr><th scope=col>&lt;chr&gt;</th><th scope=col>&lt;int&gt;</th></tr>\n",
       "</thead>\n",
       "<tbody>\n",
       "\t<tr><td>Carnivora   </td><td> 1</td></tr>\n",
       "\t<tr><td>Chiroptera  </td><td> 2</td></tr>\n",
       "\t<tr><td>Cingulata   </td><td> 1</td></tr>\n",
       "\t<tr><td>Lagomorpha  </td><td>13</td></tr>\n",
       "\t<tr><td>Rodentia    </td><td>97</td></tr>\n",
       "\t<tr><td>Soricomorpha</td><td> 3</td></tr>\n",
       "</tbody>\n",
       "</table>\n"
      ],
      "text/latex": [
       "A grouped\\_df: 6 × 2\n",
       "\\begin{tabular}{ll}\n",
       " ordenvalido & n\\\\\n",
       " <chr> & <int>\\\\\n",
       "\\hline\n",
       "\t Carnivora    &  1\\\\\n",
       "\t Chiroptera   &  2\\\\\n",
       "\t Cingulata    &  1\\\\\n",
       "\t Lagomorpha   & 13\\\\\n",
       "\t Rodentia     & 97\\\\\n",
       "\t Soricomorpha &  3\\\\\n",
       "\\end{tabular}\n"
      ],
      "text/markdown": [
       "\n",
       "A grouped_df: 6 × 2\n",
       "\n",
       "| ordenvalido &lt;chr&gt; | n &lt;int&gt; |\n",
       "|---|---|\n",
       "| Carnivora    |  1 |\n",
       "| Chiroptera   |  2 |\n",
       "| Cingulata    |  1 |\n",
       "| Lagomorpha   | 13 |\n",
       "| Rodentia     | 97 |\n",
       "| Soricomorpha |  3 |\n",
       "\n"
      ],
      "text/plain": [
       "  ordenvalido  n \n",
       "1 Carnivora     1\n",
       "2 Chiroptera    2\n",
       "3 Cingulata     1\n",
       "4 Lagomorpha   13\n",
       "5 Rodentia     97\n",
       "6 Soricomorpha  3"
      ]
     },
     "metadata": {},
     "output_type": "display_data"
    }
   ],
   "source": [
    "snib_data_ajusco %>% \n",
    "    st_set_geometry(NULL) %>%\n",
    "    group_by(ordenvalido) %>% \n",
    "    count()"
   ]
  },
  {
   "cell_type": "markdown",
   "metadata": {},
   "source": [
    "En particular en los registros de _Lagomorpha_ se tiene el _Romerolagus diazi_ o teporingo."
   ]
  },
  {
   "cell_type": "code",
   "execution_count": 10,
   "metadata": {},
   "outputs": [
    {
     "data": {
      "text/html": [
       "<table>\n",
       "<caption>A grouped_df: 3 × 2</caption>\n",
       "<thead>\n",
       "\t<tr><th scope=col>especievalida</th><th scope=col>n</th></tr>\n",
       "\t<tr><th scope=col>&lt;chr&gt;</th><th scope=col>&lt;int&gt;</th></tr>\n",
       "</thead>\n",
       "<tbody>\n",
       "\t<tr><td>Romerolagus diazi                   </td><td>2</td></tr>\n",
       "\t<tr><td>Sylvilagus cunicularius             </td><td>4</td></tr>\n",
       "\t<tr><td>Sylvilagus cunicularius cunicularius</td><td>7</td></tr>\n",
       "</tbody>\n",
       "</table>\n"
      ],
      "text/latex": [
       "A grouped\\_df: 3 × 2\n",
       "\\begin{tabular}{ll}\n",
       " especievalida & n\\\\\n",
       " <chr> & <int>\\\\\n",
       "\\hline\n",
       "\t Romerolagus diazi                    & 2\\\\\n",
       "\t Sylvilagus cunicularius              & 4\\\\\n",
       "\t Sylvilagus cunicularius cunicularius & 7\\\\\n",
       "\\end{tabular}\n"
      ],
      "text/markdown": [
       "\n",
       "A grouped_df: 3 × 2\n",
       "\n",
       "| especievalida &lt;chr&gt; | n &lt;int&gt; |\n",
       "|---|---|\n",
       "| Romerolagus diazi                    | 2 |\n",
       "| Sylvilagus cunicularius              | 4 |\n",
       "| Sylvilagus cunicularius cunicularius | 7 |\n",
       "\n"
      ],
      "text/plain": [
       "  especievalida                        n\n",
       "1 Romerolagus diazi                    2\n",
       "2 Sylvilagus cunicularius              4\n",
       "3 Sylvilagus cunicularius cunicularius 7"
      ]
     },
     "metadata": {},
     "output_type": "display_data"
    }
   ],
   "source": [
    "snib_data_ajusco %>% \n",
    "    st_set_geometry(NULL) %>% \n",
    "    filter(ordenvalido == 'Lagomorpha') %>%\n",
    "    group_by(especievalida) %>% \n",
    "    count()"
   ]
  },
  {
   "cell_type": "code",
   "execution_count": 11,
   "metadata": {},
   "outputs": [
    {
     "data": {
      "application/geo+json": {
       "features": [
        {
         "geometry": {
          "coordinates": [
           -99.2583,
           19.2083
          ],
          "type": "Point"
         },
         "properties": {
          "especievalida": "Romerolagus diazi",
          "idejemplar": "977c83f6aa37099818e7099bd2dc9f5d",
          "ordenvalido": "Lagomorpha"
         },
         "type": "Feature"
        },
        {
         "geometry": {
          "coordinates": [
           -99.2569,
           19.2056
          ],
          "type": "Point"
         },
         "properties": {
          "especievalida": "Romerolagus diazi",
          "idejemplar": "ee8d6d14edcec9bb64441c44d8a67467",
          "ordenvalido": "Lagomorpha"
         },
         "type": "Feature"
        }
       ],
       "type": "FeatureCollection"
      },
      "text/html": [
       "<table>\n",
       "<caption>A sf: 2 × 4</caption>\n",
       "<thead>\n",
       "\t<tr><th></th><th scope=col>idejemplar</th><th scope=col>ordenvalido</th><th scope=col>especievalida</th><th scope=col>geometry</th></tr>\n",
       "\t<tr><th></th><th scope=col>&lt;chr&gt;</th><th scope=col>&lt;chr&gt;</th><th scope=col>&lt;chr&gt;</th><th scope=col>&lt;POINT [°]&gt;</th></tr>\n",
       "</thead>\n",
       "<tbody>\n",
       "\t<tr><th scope=row>1</th><td>977c83f6aa37099818e7099bd2dc9f5d</td><td>Lagomorpha</td><td>Romerolagus diazi</td><td>POINT (-99.25833 19.20833)</td></tr>\n",
       "\t<tr><th scope=row>2</th><td>ee8d6d14edcec9bb64441c44d8a67467</td><td>Lagomorpha</td><td>Romerolagus diazi</td><td>POINT (-99.25691 19.20564)</td></tr>\n",
       "</tbody>\n",
       "</table>\n"
      ],
      "text/latex": [
       "A sf: 2 × 4\n",
       "\\begin{tabular}{r|llll}\n",
       "  & idejemplar & ordenvalido & especievalida & geometry\\\\\n",
       "  & <chr> & <chr> & <chr> & <POINT {[}°{]}>\\\\\n",
       "\\hline\n",
       "\t1 & 977c83f6aa37099818e7099bd2dc9f5d & Lagomorpha & Romerolagus diazi & POINT (-99.25833 19.20833)\\\\\n",
       "\t2 & ee8d6d14edcec9bb64441c44d8a67467 & Lagomorpha & Romerolagus diazi & POINT (-99.25691 19.20564)\\\\\n",
       "\\end{tabular}\n"
      ],
      "text/markdown": [
       "\n",
       "A sf: 2 × 4\n",
       "\n",
       "| <!--/--> | idejemplar &lt;chr&gt; | ordenvalido &lt;chr&gt; | especievalida &lt;chr&gt; | geometry &lt;POINT [°]&gt; |\n",
       "|---|---|---|---|---|\n",
       "| 1 | 977c83f6aa37099818e7099bd2dc9f5d | Lagomorpha | Romerolagus diazi | POINT (-99.25833 19.20833) |\n",
       "| 2 | ee8d6d14edcec9bb64441c44d8a67467 | Lagomorpha | Romerolagus diazi | POINT (-99.25691 19.20564) |\n",
       "\n"
      ],
      "text/plain": [
       "  idejemplar                       ordenvalido especievalida    \n",
       "1 977c83f6aa37099818e7099bd2dc9f5d Lagomorpha  Romerolagus diazi\n",
       "2 ee8d6d14edcec9bb64441c44d8a67467 Lagomorpha  Romerolagus diazi\n",
       "  geometry                  \n",
       "1 POINT (-99.25833 19.20833)\n",
       "2 POINT (-99.25691 19.20564)"
      ]
     },
     "metadata": {},
     "output_type": "display_data"
    }
   ],
   "source": [
    "snib_data_ajusco %>%  \n",
    "  st_transform(crs = 4326) %>%\n",
    "  filter(especievalida == \"Romerolagus diazi\") %>%\n",
    "  select(idejemplar, ordenvalido, especievalida)"
   ]
  },
  {
   "cell_type": "code",
   "execution_count": 12,
   "metadata": {},
   "outputs": [
    {
     "data": {
      "text/plain": [
       "R version 3.6.2 (2019-12-12)\n",
       "Platform: x86_64-pc-linux-gnu (64-bit)\n",
       "Running under: Arch Linux\n",
       "\n",
       "Matrix products: default\n",
       "BLAS:   /usr/lib/libopenblasp-r0.3.7.so\n",
       "LAPACK: /usr/lib/liblapack.so.3.9.0\n",
       "\n",
       "locale:\n",
       " [1] LC_CTYPE=en_US.UTF-8       LC_NUMERIC=C              \n",
       " [3] LC_TIME=en_US.UTF-8        LC_COLLATE=en_US.UTF-8    \n",
       " [5] LC_MONETARY=en_US.UTF-8    LC_MESSAGES=en_US.UTF-8   \n",
       " [7] LC_PAPER=en_US.UTF-8       LC_NAME=C                 \n",
       " [9] LC_ADDRESS=C               LC_TELEPHONE=C            \n",
       "[11] LC_MEASUREMENT=en_US.UTF-8 LC_IDENTIFICATION=C       \n",
       "\n",
       "attached base packages:\n",
       "[1] stats     graphics  grDevices utils     datasets  methods   base     \n",
       "\n",
       "other attached packages:\n",
       "[1] maptools_0.9-9 sp_1.3-1       maps_3.3.0     ggplot2_3.2.1  sf_0.8-0      \n",
       "[6] readr_1.3.1    dplyr_0.8.3    magrittr_1.5  \n",
       "\n",
       "loaded via a namespace (and not attached):\n",
       " [1] Rcpp_1.0.1         pillar_1.4.2       compiler_3.6.2     forcats_0.4.0     \n",
       " [5] base64enc_0.1-3    class_7.3-15       tools_3.6.2        zeallot_0.1.0     \n",
       " [9] digest_0.6.18      uuid_0.1-2         lattice_0.20-38    jsonlite_1.6      \n",
       "[13] evaluate_0.13      tibble_2.1.3       gtable_0.3.0       pkgconfig_2.0.2   \n",
       "[17] rlang_0.4.1        IRdisplay_0.7.0    DBI_1.0.0          rgdal_1.4-8       \n",
       "[21] curl_3.3           IRkernel_1.1       geojson_0.3.2      geojsonio_0.8.0   \n",
       "[25] e1071_1.7-1        httr_1.4.1         jqr_1.1.0          withr_2.1.2       \n",
       "[29] repr_1.0.2         rgeos_0.5-2        vctrs_0.2.1        hms_0.5.2         \n",
       "[33] classInt_0.4-2     grid_3.6.2         tidyselect_0.2.5   glue_1.3.1        \n",
       "[37] R6_2.4.0           foreign_0.8-72     pbdZMQ_0.3-3       purrr_0.3.3       \n",
       "[41] scales_1.0.0       backports_1.1.4    htmltools_0.4.0    units_0.6-3       \n",
       "[45] assertthat_0.2.1   colorspace_1.4-1   labeling_0.3       V8_2.3            \n",
       "[49] KernSmooth_2.23-16 lazyeval_0.2.2     munsell_0.5.0      crayon_1.3.4      "
      ]
     },
     "metadata": {},
     "output_type": "display_data"
    }
   ],
   "source": [
    "sessionInfo()"
   ]
  }
 ],
 "metadata": {
  "kernelspec": {
   "display_name": "R",
   "language": "R",
   "name": "ir"
  },
  "language_info": {
   "codemirror_mode": "r",
   "file_extension": ".r",
   "mimetype": "text/x-r-source",
   "name": "R",
   "pygments_lexer": "r",
   "version": "3.6.2"
  },
  "nikola": {
   "category": "R",
   "date": "2018-08-02 21:48:59 UTC-06:00",
   "description": "",
   "link": "",
   "slug": "jugando-con-los-registros-del-snib",
   "tags": "R, SNIB, CONABIO",
   "title": "Jugando con los registros del SNIB",
   "type": "text"
  }
 },
 "nbformat": 4,
 "nbformat_minor": 4
}
